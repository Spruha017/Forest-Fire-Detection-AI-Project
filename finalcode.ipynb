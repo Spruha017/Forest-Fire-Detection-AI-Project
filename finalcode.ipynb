{
  "cells": [
    {
      "cell_type": "markdown",
      "source": [
        "# AI PROJECT"
      ],
      "metadata": {
        "id": "iiFQk9i7a1gj"
      }
    },
    {
      "cell_type": "code",
      "source": [
        "!mkdir ~/.kaggle\n",
        "!cp /content/kaggle.json ~/.kaggle/kaggle.json"
      ],
      "metadata": {
        "id": "NEgpmnB0gB3b"
      },
      "execution_count": null,
      "outputs": []
    },
    {
      "cell_type": "code",
      "source": [
        "!kaggle datasets download -d alik05/forest-fire-dataset"
      ],
      "metadata": {
        "colab": {
          "base_uri": "https://localhost:8080/"
        },
        "id": "6SktmI9RgL9U",
        "outputId": "9c981525-cc82-4cb6-f326-30dc650db8bc"
      },
      "execution_count": null,
      "outputs": [
        {
          "output_type": "stream",
          "name": "stdout",
          "text": [
            "Warning: Your Kaggle API key is readable by other users on this system! To fix this, you can run 'chmod 600 /root/.kaggle/kaggle.json'\n",
            "Downloading forest-fire-dataset.zip to /content\n",
            " 99% 141M/142M [00:05<00:00, 37.4MB/s]\n",
            "100% 142M/142M [00:05<00:00, 25.4MB/s]\n"
          ]
        }
      ]
    },
    {
      "cell_type": "code",
      "source": [
        "import zipfile\n",
        "zip_ref = zipfile.ZipFile('/content/forest-fire-dataset.zip', 'r')\n",
        "zip_ref.extractall('/content')\n",
        "zip_ref.close()"
      ],
      "metadata": {
        "id": "wULd2XPygPvj"
      },
      "execution_count": null,
      "outputs": []
    },
    {
      "cell_type": "code",
      "execution_count": null,
      "metadata": {
        "id": "gQJ33_Fkf_kC"
      },
      "outputs": [],
      "source": [
        "import tensorflow as tf\n",
        "from tensorflow.keras.models import Sequential\n",
        "from tensorflow.keras.layers import Conv2D, MaxPooling2D, Flatten, Dense, Dropout, BatchNormalization, Input\n",
        "from tensorflow.keras.optimizers import SGD\n",
        "from tensorflow.keras.preprocessing.image import ImageDataGenerator"
      ]
    },
    {
      "cell_type": "code",
      "execution_count": null,
      "metadata": {
        "colab": {
          "base_uri": "https://localhost:8080/"
        },
        "id": "sZUucQevf_kE",
        "outputId": "cfbf764c-e1cb-4b8f-aaac-524bdbe86da7"
      },
      "outputs": [
        {
          "output_type": "stream",
          "name": "stdout",
          "text": [
            "Found 1216 images belonging to 2 classes.\n",
            "Found 304 images belonging to 2 classes.\n",
            "data shape =  (16, 128, 128, 3) (16,)\n",
            "Model: \"sequential_1\"\n",
            "_________________________________________________________________\n",
            " Layer (type)                Output Shape              Param #   \n",
            "=================================================================\n",
            " conv2d_2 (Conv2D)           (None, 126, 126, 32)      896       \n",
            "                                                                 \n",
            " max_pooling2d_2 (MaxPoolin  (None, 63, 63, 32)        0         \n",
            " g2D)                                                            \n",
            "                                                                 \n",
            " conv2d_3 (Conv2D)           (None, 61, 61, 64)        18496     \n",
            "                                                                 \n",
            " max_pooling2d_3 (MaxPoolin  (None, 30, 30, 64)        0         \n",
            " g2D)                                                            \n",
            "                                                                 \n",
            " flatten_1 (Flatten)         (None, 57600)             0         \n",
            "                                                                 \n",
            " dense_2 (Dense)             (None, 128)               7372928   \n",
            "                                                                 \n",
            " dropout_1 (Dropout)         (None, 128)               0         \n",
            "                                                                 \n",
            " dense_3 (Dense)             (None, 1)                 129       \n",
            "                                                                 \n",
            "=================================================================\n",
            "Total params: 7392449 (28.20 MB)\n",
            "Trainable params: 7392449 (28.20 MB)\n",
            "Non-trainable params: 0 (0.00 Byte)\n",
            "_________________________________________________________________\n"
          ]
        }
      ],
      "source": [
        "# Constants\n",
        "IMAGE_WIDTH, IMAGE_HEIGHT = 128, 128\n",
        "BATCH_SIZE = 16  # You may need to adjust this based on the performance\n",
        "\n",
        "# Define ImageDataGenerator for training data\n",
        "train_datagen = ImageDataGenerator(\n",
        "    rescale=1./255,\n",
        "    rotation_range=20,\n",
        "    width_shift_range=0.2,\n",
        "    height_shift_range=0.2,\n",
        "    shear_range=0.2,\n",
        "    zoom_range=0.2,\n",
        "    horizontal_flip=True,\n",
        "    validation_split=0.2  # Splitting 20% of the data for validation\n",
        ")\n",
        "\n",
        "# Flow training images from directory\n",
        "train_generator = train_datagen.flow_from_directory(\n",
        "    '/content/Forest Fire Dataset/Training',\n",
        "    target_size=(IMAGE_WIDTH, IMAGE_HEIGHT),\n",
        "    batch_size=BATCH_SIZE,\n",
        "    class_mode='binary',\n",
        "    subset='training'  # Specify subset as 'training'\n",
        ")\n",
        "\n",
        "# Flow validation images from directory\n",
        "validation_generator = train_datagen.flow_from_directory(\n",
        "    '/content/Forest Fire Dataset/Training',\n",
        "    target_size=(IMAGE_WIDTH, IMAGE_HEIGHT),\n",
        "    batch_size=BATCH_SIZE,\n",
        "    class_mode='binary',\n",
        "    subset='validation'  # Specify subset as 'validation'\n",
        ")\n",
        "\n",
        "# # Data preparation\n",
        "# train_datagen = ImageDataGenerator(\n",
        "#     rescale=1./255,\n",
        "#     rotation_range=20,\n",
        "#     width_shift_range=0.2,\n",
        "#     height_shift_range=0.2,\n",
        "#     shear_range=0.2,\n",
        "#     zoom_range=0.2,\n",
        "#     horizontal_flip=True\n",
        "# )\n",
        "\n",
        "# validation_datagen = ImageDataGenerator(\n",
        "#     rescale=1./255,\n",
        "#     rotation_range=20,\n",
        "#     width_shift_range=0.2,\n",
        "#     height_shift_range=0.2,\n",
        "#     shear_range=0.2,\n",
        "#     zoom_range=0.2,\n",
        "#     horizontal_flip=True\n",
        "# )\n",
        "\n",
        "# train_generator = train_datagen.flow_from_directory(\n",
        "#     '/content/Forest Fire Dataset/Training',  # Replace with the path to your training dataset\n",
        "#     target_size=(IMAGE_WIDTH, IMAGE_HEIGHT),\n",
        "#     batch_size=BATCH_SIZE,\n",
        "#     class_mode='binary'\n",
        "# )\n",
        "\n",
        "# validation_generator = validation_datagen.flow_from_directory(\n",
        "#     '/content/Forest Fire Dataset/Training',  # Replace with the path to your validation dataset\n",
        "#     target_size=(IMAGE_WIDTH, IMAGE_HEIGHT),\n",
        "#     batch_size=BATCH_SIZE,\n",
        "#     class_mode='binary'\n",
        "# )\n",
        "\n",
        "for data, labels in train_generator:\n",
        "    print(\"data shape = \",data.shape, labels.shape)\n",
        "    break  # Just to see one batch\n",
        "\n",
        "\n",
        "model = Sequential()\n",
        "model.add(Conv2D(32, (3, 3), activation=\"relu\", input_shape=(IMAGE_WIDTH, IMAGE_HEIGHT, 3)))\n",
        "model.add(MaxPooling2D(pool_size=(2, 2)))\n",
        "model.add(Conv2D(64, (3, 3), activation=\"relu\"))\n",
        "model.add(MaxPooling2D(pool_size=(2, 2)))\n",
        "model.add(Flatten())\n",
        "model.add(Dense(128, activation=\"relu\"))\n",
        "model.add(Dropout(0.5))\n",
        "model.add(Dense(1, activation=\"sigmoid\"))  # Sigmoid for binary classification\n",
        "\n",
        "model.summary()"
      ]
    },
    {
      "cell_type": "code",
      "source": [
        "model.compile(loss=\"binary_crossentropy\", optimizer=\"adam\", metrics=[\"accuracy\"])\n",
        "\n",
        "import math\n",
        "\n",
        "# Assuming train_generator and validation_generator are already defined\n",
        "train_steps_per_epoch = math.ceil(train_generator.samples / train_generator.batch_size)\n",
        "validation_steps = math.ceil(validation_generator.samples / validation_generator.batch_size)\n",
        "history = model.fit(\n",
        "    train_generator,\n",
        "    epochs=25,  # Specify the total number of epochs\n",
        "    validation_data=validation_generator\n",
        ")\n",
        "\n",
        "# Save model\n",
        "model.save('forestfire_detection_model.h5')"
      ],
      "metadata": {
        "id": "Sh-CoGrHbpT7",
        "colab": {
          "base_uri": "https://localhost:8080/"
        },
        "outputId": "6cf7f709-0d57-4473-dd2a-447084fc16b4"
      },
      "execution_count": null,
      "outputs": [
        {
          "output_type": "stream",
          "name": "stdout",
          "text": [
            "Epoch 1/25\n",
            "76/76 [==============================] - 16s 128ms/step - loss: 0.3668 - accuracy: 0.8668 - val_loss: 0.1691 - val_accuracy: 0.9737\n",
            "Epoch 2/25\n",
            "76/76 [==============================] - 10s 130ms/step - loss: 0.2030 - accuracy: 0.9317 - val_loss: 0.1263 - val_accuracy: 0.9770\n",
            "Epoch 3/25\n",
            "76/76 [==============================] - 10s 127ms/step - loss: 0.1741 - accuracy: 0.9433 - val_loss: 0.1146 - val_accuracy: 0.9803\n",
            "Epoch 4/25\n",
            "76/76 [==============================] - 10s 126ms/step - loss: 0.1692 - accuracy: 0.9400 - val_loss: 0.1405 - val_accuracy: 0.9704\n",
            "Epoch 5/25\n",
            "76/76 [==============================] - 10s 128ms/step - loss: 0.1671 - accuracy: 0.9367 - val_loss: 0.1061 - val_accuracy: 0.9737\n",
            "Epoch 6/25\n",
            "76/76 [==============================] - 9s 115ms/step - loss: 0.1573 - accuracy: 0.9383 - val_loss: 0.1139 - val_accuracy: 0.9671\n",
            "Epoch 7/25\n",
            "76/76 [==============================] - 10s 131ms/step - loss: 0.1922 - accuracy: 0.9309 - val_loss: 0.1759 - val_accuracy: 0.9605\n",
            "Epoch 8/25\n",
            "76/76 [==============================] - 10s 129ms/step - loss: 0.1489 - accuracy: 0.9490 - val_loss: 0.1138 - val_accuracy: 0.9803\n",
            "Epoch 9/25\n",
            "76/76 [==============================] - 10s 127ms/step - loss: 0.1331 - accuracy: 0.9507 - val_loss: 0.1973 - val_accuracy: 0.9539\n",
            "Epoch 10/25\n",
            "76/76 [==============================] - 9s 115ms/step - loss: 0.1348 - accuracy: 0.9465 - val_loss: 0.1214 - val_accuracy: 0.9704\n",
            "Epoch 11/25\n",
            "76/76 [==============================] - 10s 129ms/step - loss: 0.1536 - accuracy: 0.9523 - val_loss: 0.1078 - val_accuracy: 0.9836\n",
            "Epoch 12/25\n",
            "76/76 [==============================] - 10s 128ms/step - loss: 0.1711 - accuracy: 0.9391 - val_loss: 0.1030 - val_accuracy: 0.9770\n",
            "Epoch 13/25\n",
            "76/76 [==============================] - 10s 128ms/step - loss: 0.1499 - accuracy: 0.9490 - val_loss: 0.0862 - val_accuracy: 0.9770\n",
            "Epoch 14/25\n",
            "76/76 [==============================] - 10s 127ms/step - loss: 0.1256 - accuracy: 0.9498 - val_loss: 0.1003 - val_accuracy: 0.9901\n",
            "Epoch 15/25\n",
            "76/76 [==============================] - 9s 116ms/step - loss: 0.1340 - accuracy: 0.9564 - val_loss: 0.1136 - val_accuracy: 0.9671\n",
            "Epoch 16/25\n",
            "76/76 [==============================] - 10s 127ms/step - loss: 0.1731 - accuracy: 0.9416 - val_loss: 0.1534 - val_accuracy: 0.9671\n",
            "Epoch 17/25\n",
            "76/76 [==============================] - 10s 129ms/step - loss: 0.1404 - accuracy: 0.9539 - val_loss: 0.1474 - val_accuracy: 0.9704\n",
            "Epoch 18/25\n",
            "76/76 [==============================] - 10s 133ms/step - loss: 0.1489 - accuracy: 0.9474 - val_loss: 0.1077 - val_accuracy: 0.9704\n",
            "Epoch 19/25\n",
            "76/76 [==============================] - 9s 120ms/step - loss: 0.1306 - accuracy: 0.9474 - val_loss: 0.1355 - val_accuracy: 0.9836\n",
            "Epoch 20/25\n",
            "76/76 [==============================] - 10s 128ms/step - loss: 0.1395 - accuracy: 0.9556 - val_loss: 0.1434 - val_accuracy: 0.9605\n",
            "Epoch 21/25\n",
            "76/76 [==============================] - 10s 130ms/step - loss: 0.1179 - accuracy: 0.9556 - val_loss: 0.1282 - val_accuracy: 0.9737\n",
            "Epoch 22/25\n",
            "76/76 [==============================] - 10s 128ms/step - loss: 0.1327 - accuracy: 0.9523 - val_loss: 0.1341 - val_accuracy: 0.9737\n",
            "Epoch 23/25\n",
            "76/76 [==============================] - 9s 114ms/step - loss: 0.1104 - accuracy: 0.9556 - val_loss: 0.0932 - val_accuracy: 0.9803\n",
            "Epoch 24/25\n",
            "76/76 [==============================] - 10s 125ms/step - loss: 0.1228 - accuracy: 0.9515 - val_loss: 0.0946 - val_accuracy: 0.9737\n",
            "Epoch 25/25\n",
            "76/76 [==============================] - 10s 130ms/step - loss: 0.1182 - accuracy: 0.9548 - val_loss: 0.1099 - val_accuracy: 0.9770\n"
          ]
        },
        {
          "output_type": "stream",
          "name": "stderr",
          "text": [
            "/usr/local/lib/python3.10/dist-packages/keras/src/engine/training.py:3103: UserWarning: You are saving your model as an HDF5 file via `model.save()`. This file format is considered legacy. We recommend using instead the native Keras format, e.g. `model.save('my_model.keras')`.\n",
            "  saving_api.save_model(\n"
          ]
        }
      ]
    },
    {
      "cell_type": "code",
      "source": [
        "import matplotlib.pyplot as plt"
      ],
      "metadata": {
        "id": "Rs0BRqoji_ox"
      },
      "execution_count": null,
      "outputs": []
    },
    {
      "cell_type": "code",
      "source": [
        "fig1 = plt.gcf()\n",
        "plt.plot([acc * 100 for acc in history.history['accuracy']])\n",
        "plt.plot([val_acc * 100 for val_acc in history.history['val_accuracy']])\n",
        "plt.axis(ymin=85, ymax=100)  # Set y-axis scale from 80 to 100\n",
        "plt.grid()\n",
        "plt.title('Model Accuracy')\n",
        "plt.ylabel('Accuracy (%)')\n",
        "plt.xlabel('Epochs')\n",
        "plt.legend(['train', 'validation'])\n",
        "plt.show()"
      ],
      "metadata": {
        "colab": {
          "base_uri": "https://localhost:8080/",
          "height": 472
        },
        "id": "KGerViT3i4us",
        "outputId": "eb8e33a2-6010-4fda-fa25-e9dda8343b9d"
      },
      "execution_count": null,
      "outputs": [
        {
          "output_type": "display_data",
          "data": {
            "text/plain": [
              "<Figure size 640x480 with 1 Axes>"
            ],
            "image/png": "[encoded data removed]"
          },
          "metadata": {}
        }
      ]
    },
    {
      "cell_type": "code",
      "source": [
        "# plt.plot(history.history['loss'])\n",
        "# plt.plot(history.history['val_loss'])\n",
        "plt.plot([loss * 100 for loss in history.history['loss']])\n",
        "plt.plot([val_loss * 100 for val_loss in history.history['val_loss']])\n",
        "# plt.axis(ymin=85, ymax=100)\n",
        "plt.grid()\n",
        "plt.title('Model Loss')\n",
        "plt.ylabel('Loss (%)')\n",
        "plt.xlabel('Epochs')\n",
        "plt.legend(['train', 'validation'])\n",
        "plt.show()"
      ],
      "metadata": {
        "colab": {
          "base_uri": "https://localhost:8080/",
          "height": 472
        },
        "id": "c91Ke3h2i7oH",
        "outputId": "3cd11763-bf69-49b1-902c-ee5a8d605f63"
      },
      "execution_count": null,
      "outputs": [
        {
          "output_type": "display_data",
          "data": {
            "text/plain": [
              "<Figure size 640x480 with 1 Axes>"
            ],
            "image/png": "[encoded data removed]"
          },
          "metadata": {}
        }
      ]
    },
    {
      "cell_type": "markdown",
      "source": [
        "# Organize Testing data"
      ],
      "metadata": {
        "id": "suz0FQspgDH_"
      }
    },
    {
      "cell_type": "code",
      "source": [
        "!mkdir -p \"/content/Forest Fire Dataset/Testing/fire\"\n",
        "!mkdir -p \"/content/Forest Fire Dataset/Testing/nofire\""
      ],
      "metadata": {
        "id": "IC-lGpFCb-k7"
      },
      "execution_count": null,
      "outputs": []
    },
    {
      "cell_type": "code",
      "source": [
        "import os\n",
        "\n",
        "# Define the folder path\n",
        "folder_path = \"/content/Forest Fire Dataset/Testing\"\n",
        "\n",
        "# List all files in the folder\n",
        "# all_files = os.listdir(folder_path)\n",
        "all_files = [file for file in os.listdir(folder_path) if os.path.isfile(os.path.join(folder_path, file))]\n",
        "\n",
        "\n",
        "# Separate files starting with \"fire\" and \"nofire\"\n",
        "fire_files = [file for file in all_files if file.startswith(\"fire\")]\n",
        "nofire_files = [file for file in all_files if file.startswith(\"nofire\")]\n",
        "\n",
        "# Print the list of files starting with \"fire\"\n",
        "# print(\"Files starting with 'fire':\")\n",
        "# for file in fire_files:\n",
        "#     print(file)\n",
        "\n",
        "# # Print the list of files starting with \"nofire\"\n",
        "# print(\"\\nFiles starting with 'nofire':\")\n",
        "# for file in nofire_files:\n",
        "#     print(file)\n",
        "\n",
        "import shutil\n",
        "import os\n",
        "\n",
        "# Define source and destination folders\n",
        "source_folder = \"/content/Forest Fire Dataset/Testing\"\n",
        "destination_folder = \"/content/Forest Fire Dataset/Testing/fire\"\n",
        "destination_folder2 = \"/content/Forest Fire Dataset/Testing/nofire\"\n",
        "\n",
        "# List files in the source folder\n",
        "files_to_transfer1 = fire_files\n",
        "\n",
        "# Transfer files one by one\n",
        "for file in files_to_transfer1:\n",
        "    # Construct paths for the source and destination files\n",
        "    source_path = os.path.join(source_folder, file)\n",
        "    destination_path = os.path.join(destination_folder, file)\n",
        "\n",
        "    # Transfer the file\n",
        "    shutil.move(source_path, destination_path)\n",
        "    # print(f\"Transferred {file} to {destination_folder}\")\n",
        "\n",
        "\n",
        "# List files in the source folder\n",
        "files_to_transfer2 = nofire_files\n",
        "\n",
        "# Transfer files one by one\n",
        "for file in files_to_transfer2:\n",
        "    # Construct paths for the source and destination files\n",
        "    source_path = os.path.join(source_folder, file)\n",
        "    destination_path2 = os.path.join(destination_folder2, file)\n",
        "\n",
        "    # Transfer the file\n",
        "    shutil.move(source_path, destination_path2)\n",
        "    # print(f\"Transferred {file} to {destination_folder}\")"
      ],
      "metadata": {
        "id": "Ays11wvBlju4"
      },
      "execution_count": null,
      "outputs": []
    },
    {
      "cell_type": "markdown",
      "source": [
        "# Confusion matrix"
      ],
      "metadata": {
        "id": "Ffjy2Id4kClh"
      }
    },
    {
      "cell_type": "code",
      "source": [
        "import numpy as np\n",
        "import matplotlib.pyplot as plt\n",
        "import seaborn as sns\n",
        "from tensorflow.keras.preprocessing.image import ImageDataGenerator\n",
        "from tensorflow.keras.models import load_model\n",
        "from sklearn.metrics import confusion_matrix, accuracy_score\n",
        "\n",
        "def calculate_precision_recall(conf_matrix):\n",
        "    # Extract values from confusion matrix\n",
        "    true_positives = conf_matrix[0, 0]\n",
        "    false_positives = conf_matrix[0, 1]\n",
        "    false_negatives = conf_matrix[1, 0]\n",
        "\n",
        "    # Calculate precision\n",
        "    precision = true_positives / (true_positives + false_positives)\n",
        "\n",
        "    # Calculate recall\n",
        "    recall = true_positives / (true_positives + false_negatives)\n",
        "\n",
        "    return precision, recall\n",
        "\n",
        "\n",
        "def calculate_f1_score(precision, recall):\n",
        "    # Calculate F1 score\n",
        "    f1_score = 2 * (precision * recall) / (precision + recall)\n",
        "    return f1_score\n",
        "\n",
        "\n",
        "def evaluate_model(train_dir, test_dir, model_path):\n",
        "    # Load the model\n",
        "    model = load_model(model_path)\n",
        "\n",
        "    # Create data generators\n",
        "    datagen = ImageDataGenerator(rescale=1./255)\n",
        "\n",
        "    train_generator = datagen.flow_from_directory(\n",
        "        train_dir,\n",
        "        target_size=(128, 128),  # Adjust based on your model training input\n",
        "        batch_size=16,  # Use the same batch size as in training\n",
        "        class_mode='binary',\n",
        "        shuffle=False)  # Important to keep shuffle False to match labels\n",
        "\n",
        "    # test_generator = datagen.flow_from_directory(\n",
        "    #     test_dir,\n",
        "    #     target_size=(128, 128),\n",
        "    #     batch_size=16,\n",
        "    #     class_mode='binary',\n",
        "    #     shuffle=False)\n",
        "    # print(train_generator.classes)\n",
        "    # print(test_generator.classes)\n",
        "    # adjusted_test_classes = [label - 1 for label in test_generator.classes]\n",
        "\n",
        "    test_generator = datagen.flow_from_directory(\n",
        "        test_dir,\n",
        "        target_size=(128, 128),\n",
        "        batch_size=16,\n",
        "        class_mode='binary',\n",
        "        classes=['fire', 'nofire'],  # Specify the class labels explicitly\n",
        "        shuffle=False\n",
        "    )\n",
        "\n",
        "\n",
        "    # Predicting the data\n",
        "    train_pred = model.predict(train_generator)\n",
        "    test_pred = model.predict(test_generator)\n",
        "\n",
        "    # Convert probabilities to binary outputs\n",
        "    train_pred_binary = (train_pred > 0.5).astype(np.int32)\n",
        "    test_pred_binary = (test_pred > 0.5).astype(np.int32)\n",
        "\n",
        "    # Calculate the accuracy\n",
        "    train_acc = accuracy_score(train_generator.classes, train_pred_binary)\n",
        "    test_acc = accuracy_score(test_generator.classes, test_pred_binary)\n",
        "\n",
        "    # Confusion Matrix calculation\n",
        "    train_cm = confusion_matrix(train_generator.classes, train_pred_binary)\n",
        "    test_cm = confusion_matrix(test_generator.classes, test_pred_binary)\n",
        "\n",
        "    train_precision, train_recall = calculate_precision_recall(train_cm)\n",
        "    test_precision, test_recall = calculate_precision_recall(test_cm)\n",
        "\n",
        "    print(\"Training Precision: \", train_precision)\n",
        "    print(\"Training Recall: \", train_recall)\n",
        "    print(\"Testing Precision: \", test_precision)\n",
        "    print(\"Testing Recall: \", test_recall)\n",
        "\n",
        "\n",
        "    train_f1_score = calculate_f1_score(train_precision, train_recall)\n",
        "    test_f1_score = calculate_f1_score(test_precision, test_recall)\n",
        "\n",
        "    print(\"Training F1 Score: \", train_f1_score)\n",
        "    print(\"Testing F1 Score: \", test_f1_score)\n",
        "\n",
        "\n",
        "    # Plotting the confusion matrix\n",
        "    plt.figure(figsize=(12, 6))\n",
        "\n",
        "    plt.subplot(1, 2, 1)\n",
        "    sns.heatmap(train_cm, annot=True, fmt='d', cmap='Blues', cbar=False)\n",
        "    plt.title(f'Train Confusion Matrix\\nAccuracy: {train_acc:.2f}')\n",
        "    plt.xlabel('Predicted Label')\n",
        "    plt.ylabel('True Label')\n",
        "\n",
        "    plt.subplot(1, 2, 2)\n",
        "    sns.heatmap(test_cm, annot=True, fmt='d', cmap='Blues', cbar=False)\n",
        "    plt.title(f'Test Confusion Matrix\\nAccuracy: {test_acc:.2f}')\n",
        "    plt.xlabel('Predicted Label')\n",
        "    plt.ylabel('True Label')\n",
        "\n",
        "    plt.tight_layout()\n",
        "    plt.show()\n",
        "\n",
        "    return train_acc, test_acc\n",
        "\n",
        "# Example usage:\n",
        "train_accuracy, test_accuracy = evaluate_model(\n",
        "    '/content/Forest Fire Dataset/Training',\n",
        "    '/content/Forest Fire Dataset/Testing',\n",
        "    '/content/forestfire_detection_model.h5')\n",
        "print(\"Training Accuracy:\", train_accuracy)\n",
        "print(\"Testing Accuracy:\", test_accuracy)"
      ],
      "metadata": {
        "colab": {
          "base_uri": "https://localhost:8080/",
          "height": 711
        },
        "id": "il9-g2RRkEY2",
        "outputId": "f0437e49-a432-4a5a-9371-3fea15b8819f"
      },
      "execution_count": null,
      "outputs": [
        {
          "output_type": "stream",
          "name": "stdout",
          "text": [
            "Found 1520 images belonging to 2 classes.\n",
            "Found 380 images belonging to 2 classes.\n",
            "95/95 [==============================] - 3s 32ms/step\n",
            "24/24 [==============================] - 1s 39ms/step\n"
          ]
        },
        {
          "output_type": "display_data",
          "data": {
            "text/plain": [
              "<Figure size 1200x600 with 2 Axes>"
            ],
            "image/png": "[encoded data removed]"
          },
          "metadata": {}
        },
        {
          "output_type": "stream",
          "name": "stdout",
          "text": [
            "Training Accuracy: 0.968421052631579\n",
            "Testing Accuracy: 0.9526315789473684\n"
          ]
        }
      ]
    },
    {
      "cell_type": "markdown",
      "source": [
        "# Testing"
      ],
      "metadata": {
        "id": "-99jyfR2erFy"
      }
    },
    {
      "cell_type": "code",
      "source": [
        "import numpy as np\n",
        "import tensorflow as tf\n",
        "from tensorflow.keras.models import load_model\n",
        "from tensorflow.keras.preprocessing import image\n",
        "from tensorflow.keras.preprocessing.image import ImageDataGenerator\n",
        "\n",
        "# Load the saved model\n",
        "model = load_model(r'/content/forestfire_detection_model.h5')\n",
        "\n",
        "def load_and_prepare_image(img_path):\n",
        "    \"\"\"\n",
        "    Loads an image file, converting it to an array that can be used for model prediction.\n",
        "    \"\"\"\n",
        "    img = image.load_img(img_path, target_size=(128, 128))  # Ensure the size matches the input size of the model\n",
        "    img_array = image.img_to_array(img)\n",
        "    img_array = np.expand_dims(img_array, axis=0)  # Create a batch containing a single image\n",
        "    img_array /= 255.0  # Rescale pixel values to match the training preprocessing\n",
        "    return img_array\n",
        "\n",
        "def predict_fire_status(img_path):\n",
        "    \"\"\"\n",
        "    Predicts whether the image is of a 'fire' or 'nofire'.\n",
        "    \"\"\"\n",
        "    img_array = load_and_prepare_image(img_path)\n",
        "    prediction = model.predict(img_array)\n",
        "    class_prediction = 'fire' if prediction[0][0] > 0.5 else 'nofire'  # Adjust threshold if necessary\n",
        "    return class_prediction\n"
      ],
      "metadata": {
        "id": "Mfq8crKtngaa"
      },
      "execution_count": null,
      "outputs": []
    },
    {
      "cell_type": "code",
      "source": [
        "# Example usage\n",
        "img_path = r'/content/kachori.jpeg'  # Replace with the path to the image you want to classify\n",
        "result = predict_fire_status(img_path)\n",
        "print(f'The image is classified as: {result}')"
      ],
      "metadata": {
        "colab": {
          "base_uri": "https://localhost:8080/"
        },
        "id": "lf8UvIYKnvmN",
        "outputId": "e27dd7e4-d59b-4579-938f-8d96d1c1c2f9"
      },
      "execution_count": null,
      "outputs": [
        {
          "output_type": "stream",
          "name": "stdout",
          "text": [
            "1/1 [==============================] - 0s 19ms/step\n",
            "The image is classified as: nofire\n"
          ]
        }
      ]
    },
    {
      "cell_type": "code",
      "source": [
        "# Example usage\n",
        "img_path = r'/content/pexels-pixabay-51951.jpg'  # Replace with the path to the image you want to classify\n",
        "result = predict_fire_status(img_path)\n",
        "print(f'The image is classified as: {result}')"
      ],
      "metadata": {
        "colab": {
          "base_uri": "https://localhost:8080/"
        },
        "id": "brISfdJEn16g",
        "outputId": "60c48539-8cbe-4f90-c9ec-4775a35db353"
      },
      "execution_count": null,
      "outputs": [
        {
          "output_type": "stream",
          "name": "stdout",
          "text": [
            "1/1 [==============================] - 0s 18ms/step\n",
            "The image is classified as: fire\n"
          ]
        }
      ]
    },
    {
      "cell_type": "code",
      "source": [
        "# Example usage\n",
        "img_path = r'/content/bonfire.jpeg'  # Replace with the path to the image you want to classify\n",
        "result = predict_fire_status(img_path)\n",
        "print(f'The image is classified as: {result}')"
      ],
      "metadata": {
        "colab": {
          "base_uri": "https://localhost:8080/"
        },
        "id": "GpPO8mmweNjn",
        "outputId": "5eaa5453-a8f4-4c35-953f-1966693369b9"
      },
      "execution_count": null,
      "outputs": [
        {
          "output_type": "stream",
          "name": "stdout",
          "text": [
            "1/1 [==============================] - 0s 239ms/step\n",
            "The image is classified as: nofire\n"
          ]
        }
      ]
    }
  ],
  "metadata": {
    "kernelspec": {
      "display_name": "Python 3",
      "name": "python3"
    },
    "language_info": {
      "codemirror_mode": {
        "name": "ipython",
        "version": 3
      },
      "file_extension": ".py",
      "mimetype": "text/x-python",
      "name": "python",
      "nbconvert_exporter": "python",
      "pygments_lexer": "ipython3",
      "version": "3.11.2"
    },
    "colab": {
      "provenance": [],
      "gpuType": "T4"
    },
    "accelerator": "GPU"
  },
  "nbformat": 4,
  "nbformat_minor": 0
}